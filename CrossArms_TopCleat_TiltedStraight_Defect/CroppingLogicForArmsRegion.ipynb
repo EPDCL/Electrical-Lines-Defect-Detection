{
 "cells": [
  {
   "cell_type": "code",
   "execution_count": 2,
   "id": "fab67ebc-7895-4376-8500-d74ca0c3f107",
   "metadata": {},
   "outputs": [
    {
     "name": "stdout",
     "output_type": "stream",
     "text": [
      "Cropping for all bounding boxes finished.\n"
     ]
    }
   ],
   "source": [
    "import os\n",
    "import cv2\n",
    "\n",
    "def crop_crossarm_area(image, label_line, top_expand=0.2, crop_height_ratio=0.50):\n",
    "    H, W = image.shape[:2]\n",
    "    values = list(map(float, label_line.strip().split()))\n",
    "    if len(values) < 5:\n",
    "        raise ValueError(\"Invalid label format\")\n",
    "    class_id, x_c, y_c, w, h = values[:5]\n",
    "\n",
    "    # Convert normalized YOLO coords to pixel values\n",
    "    x_center = x_c * W\n",
    "    y_center = y_c * H\n",
    "    box_width = w * W\n",
    "    box_height = h * H\n",
    "\n",
    "    # Original top-left of the box\n",
    "    x1 = x_center - box_width / 2\n",
    "    y1 = y_center - box_height / 2\n",
    "\n",
    "    # Compute vertical crop bounds\n",
    "    crop_y1 = max(0, y1 - top_expand * box_height)\n",
    "    crop_y2 = min(H, y1 + crop_height_ratio * box_height)\n",
    "\n",
    "    # Compute horizontal crop bounds using box_height\n",
    "    half_crop_width = 0.57 * box_height\n",
    "    crop_x1 = max(0, x_center - half_crop_width)\n",
    "    crop_x2 = min(W, x_center + half_crop_width)\n",
    "\n",
    "    # Perform cropping\n",
    "    return image[int(crop_y1):int(crop_y2), int(crop_x1):int(crop_x2)]\n",
    "\n",
    "\n",
    "\n",
    "def process_directory(image_dir, label_dir, output_dir):\n",
    "    os.makedirs(output_dir, exist_ok=True)\n",
    "\n",
    "    for filename in os.listdir(image_dir):\n",
    "        if not filename.lower().endswith((\".jpg\", \".png\")):\n",
    "            continue\n",
    "\n",
    "        image_path = os.path.join(image_dir, filename)\n",
    "        label_path = os.path.join(label_dir, os.path.splitext(filename)[0] + \".txt\")\n",
    "\n",
    "        # Skip if label file doesn't exist\n",
    "        if not os.path.exists(label_path):\n",
    "            continue\n",
    "\n",
    "        image = cv2.imread(image_path)\n",
    "        if image is None:\n",
    "            print(f\"Failed to load {filename}, skipping.\")\n",
    "            continue\n",
    "\n",
    "        # Read all valid YOLO label lines\n",
    "        with open(label_path, 'r') as f:\n",
    "            lines = [line for line in f if len(line.strip().split()) >= 5]\n",
    "\n",
    "        if not lines:\n",
    "            continue\n",
    "\n",
    "        base_name = os.path.splitext(filename)[0]\n",
    "\n",
    "        # Crop and save for each bounding box\n",
    "        for idx, label_line in enumerate(lines):\n",
    "            try:\n",
    "                cropped = crop_crossarm_area(image, label_line)\n",
    "                save_name = f\"{base_name}_crop_{idx}.jpg\"\n",
    "                save_path = os.path.join(output_dir, save_name)\n",
    "                cv2.imwrite(save_path, cropped)\n",
    "            except Exception as e:\n",
    "                print(f\"Skipping {filename} bbox {idx} due to error: {e}\")\n",
    "\n",
    "if __name__ == \"__main__\":\n",
    "    process_directory(\n",
    "        image_dir=\"/home/line_quality/line_quality/Sampath/Models/dino_crop_rejection/Classification/Rejected/\",       # Folder with .jpg/.png images\n",
    "        label_dir=\"/home/line_quality/line_quality/Sampath/Models/dino_crop_rejection/OutputPreds_rejected/predict/labels/\",       # Folder with corresponding YOLO .txt labels\n",
    "        output_dir=\"/home/line_quality/line_quality/Sampath/Models/dino_crop_rejection/OutputCropsRejected/\" # Folder to save all cropped areas\n",
    "    )\n",
    "    print(\"Cropping for all bounding boxes finished.\")\n"
   ]
  },
  {
   "cell_type": "code",
   "execution_count": null,
   "id": "6fd831b4-9ccc-446f-8437-73d99a991158",
   "metadata": {},
   "outputs": [],
   "source": []
  }
 ],
 "metadata": {
  "kernelspec": {
   "display_name": "Python 3 (ipykernel)",
   "language": "python",
   "name": "python3"
  },
  "language_info": {
   "codemirror_mode": {
    "name": "ipython",
    "version": 3
   },
   "file_extension": ".py",
   "mimetype": "text/x-python",
   "name": "python",
   "nbconvert_exporter": "python",
   "pygments_lexer": "ipython3",
   "version": "3.11.9"
  }
 },
 "nbformat": 4,
 "nbformat_minor": 5
}
